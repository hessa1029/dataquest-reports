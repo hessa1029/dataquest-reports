{
 "cells": [
  {
   "cell_type": "code",
   "execution_count": 15,
   "metadata": {
    "collapsed": false
   },
   "outputs": [],
   "source": [
    "from btree import NodeKey, Node, BTree\n",
    "import pickle\n",
    "\n",
    "class DQKV(BTree):\n",
    "    def __init__(self, type_, values=None):\n",
    "        self.type = type_\n",
    "        super().__init__(10)\n",
    "    \n",
    "    def get(self, key):\n",
    "        value = self.search(self.root, key)\n",
    "        if value is None:\n",
    "            raise KeyError('There is no value for the key: \"{}\"'.format(key))\n",
    "        return value\n",
    "    \n",
    "    def set(self, key, value):\n",
    "        if value is None:\n",
    "            raise ValueError('Cannot store value: None')\n",
    "        if not isinstance(key, self.type):\n",
    "            raise KeyError('Key must be of type: {}'.format(self.type))\n",
    "        exists = self.search(self.root, key)\n",
    "        if exists:\n",
    "            raise ValueError('Cannot store a duplicate key value')\n",
    "            \n",
    "        node = NodeKey(key, value)\n",
    "        self.insert(node)\n",
    "        \n",
    "    def range_query(self, interval, inclusive=False):\n",
    "        if not isinstance(interval, (list, tuple)) and len(interval) !=2:\n",
    "            raise ValueError('The range argument is incorrect. Please provide a list or tuple of two values specifying the start and end: [start, end]')\n",
    "            \n",
    "        lower, upper = interval\n",
    "        \n",
    "        if lower is None:\n",
    "            return self.less_than(self.root, upper, inclusive=inclusive)\n",
    "        return self.greater_than(self.root, lower, upper_bound=upper, inclusive=inclusive)\n",
    "    \n",
    "    def dump(self, filename):\n",
    "        filename = filename + '.dqdb'\n",
    "        with open(filename, 'wb') as f:\n",
    "            pickle.dump(self, f)\n",
    "            return True\n",
    "        return False\n",
    "\n",
    "    @staticmethod\n",
    "    def load(filename):\n",
    "        filename = filename + '.dqdb'\n",
    "        with open(filename, 'rb') as f:\n",
    "            return pickle.load(f)\n",
    "        \n",
    "    def load_from_dict(self, dict):\n",
    "        for key, value in dict.items():\n",
    "            self.set(key, value)"
   ]
  },
  {
   "cell_type": "code",
   "execution_count": 26,
   "metadata": {
    "collapsed": false
   },
   "outputs": [
    {
     "name": "stdout",
     "output_type": "stream",
     "text": [
      "[<NodeKey: (1, a)>, <NodeKey: (2, b)>, <NodeKey: (3, c)>, <NodeKey: (4, d)>]\n",
      "[<NodeKey: (2, b)>, <NodeKey: (3, c)>]\n",
      "[<NodeKey: (3, c)>, <NodeKey: (4, d)>, <NodeKey: (5, e)>, <NodeKey: (6, test)>]\n",
      "hellow world\n"
     ]
    }
   ],
   "source": [
    "dq = DQKV(int)\n",
    "dq.set(1, 'a')\n",
    "dq.set(2, 'b')\n",
    "dq.set(3, 'c')\n",
    "dq.set(4, 'd')\n",
    "print(dq.range_query([1,4], inclusive=True))\n",
    "\n",
    "dq.dump('test')\n",
    "dqkv = DQKV.load('test')\n",
    "\n",
    "print(dq.range_query([1,4]))\n",
    "additional_keys = {\n",
    "    5: 'e',\n",
    "    6: 'test',\n",
    "    7: 'hellow world'\n",
    "}\n",
    "dqkv.load_from_dict(additional_keys)\n",
    "print(dqkv.range_query([3,6], inclusive=True))\n",
    "print(dqkv.get(7))"
   ]
  },
  {
   "cell_type": "code",
   "execution_count": null,
   "metadata": {
    "collapsed": true
   },
   "outputs": [],
   "source": []
  }
 ],
 "metadata": {
  "kernelspec": {
   "display_name": "Python 3",
   "language": "python",
   "name": "python3"
  },
  "language_info": {
   "codemirror_mode": {
    "name": "ipython",
    "version": 3
   },
   "file_extension": ".py",
   "mimetype": "text/x-python",
   "name": "python",
   "nbconvert_exporter": "python",
   "pygments_lexer": "ipython3",
   "version": "3.4.3"
  }
 },
 "nbformat": 4,
 "nbformat_minor": 0
}
