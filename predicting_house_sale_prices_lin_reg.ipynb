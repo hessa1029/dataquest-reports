{
 "cells": [
  {
   "cell_type": "markdown",
   "metadata": {},
   "source": [
    "# Predicting House Sale Prices using Linear Regression\n",
    "\n",
    "In this project we will be looking at house sales data from Ames, Iowa. We will review the features that have been provided and determine the best set of features to use for linear regression modeling of the dataset to predict future house sale prices."
   ]
  },
  {
   "cell_type": "code",
   "execution_count": 1,
   "metadata": {
    "collapsed": true
   },
   "outputs": [],
   "source": [
    "# Import all modules/classes need for this project\n",
    "import numpy as np\n",
    "import pandas as pd\n",
    "import matplotlib.pyplot as plt\n",
    "%matplotlib inline\n",
    "import seaborn as sns\n",
    "from sklearn.linear_model import LinearRegression\n",
    "from sklearn.metrics import mean_squared_error\n",
    "from sklearn.model_selection import KFold"
   ]
  },
  {
   "cell_type": "code",
   "execution_count": 2,
   "metadata": {
    "collapsed": false
   },
   "outputs": [
    {
     "data": {
      "text/html": [
       "<div>\n",
       "<style scoped>\n",
       "    .dataframe tbody tr th:only-of-type {\n",
       "        vertical-align: middle;\n",
       "    }\n",
       "\n",
       "    .dataframe tbody tr th {\n",
       "        vertical-align: top;\n",
       "    }\n",
       "\n",
       "    .dataframe thead th {\n",
       "        text-align: right;\n",
       "    }\n",
       "</style>\n",
       "<table border=\"1\" class=\"dataframe\">\n",
       "  <thead>\n",
       "    <tr style=\"text-align: right;\">\n",
       "      <th></th>\n",
       "      <th>Order</th>\n",
       "      <th>PID</th>\n",
       "      <th>MS SubClass</th>\n",
       "      <th>MS Zoning</th>\n",
       "      <th>Lot Frontage</th>\n",
       "      <th>Lot Area</th>\n",
       "      <th>Street</th>\n",
       "      <th>Alley</th>\n",
       "      <th>Lot Shape</th>\n",
       "      <th>Land Contour</th>\n",
       "      <th>...</th>\n",
       "      <th>Pool Area</th>\n",
       "      <th>Pool QC</th>\n",
       "      <th>Fence</th>\n",
       "      <th>Misc Feature</th>\n",
       "      <th>Misc Val</th>\n",
       "      <th>Mo Sold</th>\n",
       "      <th>Yr Sold</th>\n",
       "      <th>Sale Type</th>\n",
       "      <th>Sale Condition</th>\n",
       "      <th>SalePrice</th>\n",
       "    </tr>\n",
       "  </thead>\n",
       "  <tbody>\n",
       "    <tr>\n",
       "      <th>0</th>\n",
       "      <td>1</td>\n",
       "      <td>526301100</td>\n",
       "      <td>20</td>\n",
       "      <td>RL</td>\n",
       "      <td>141.0</td>\n",
       "      <td>31770</td>\n",
       "      <td>Pave</td>\n",
       "      <td>NaN</td>\n",
       "      <td>IR1</td>\n",
       "      <td>Lvl</td>\n",
       "      <td>...</td>\n",
       "      <td>0</td>\n",
       "      <td>NaN</td>\n",
       "      <td>NaN</td>\n",
       "      <td>NaN</td>\n",
       "      <td>0</td>\n",
       "      <td>5</td>\n",
       "      <td>2010</td>\n",
       "      <td>WD</td>\n",
       "      <td>Normal</td>\n",
       "      <td>215000</td>\n",
       "    </tr>\n",
       "    <tr>\n",
       "      <th>1</th>\n",
       "      <td>2</td>\n",
       "      <td>526350040</td>\n",
       "      <td>20</td>\n",
       "      <td>RH</td>\n",
       "      <td>80.0</td>\n",
       "      <td>11622</td>\n",
       "      <td>Pave</td>\n",
       "      <td>NaN</td>\n",
       "      <td>Reg</td>\n",
       "      <td>Lvl</td>\n",
       "      <td>...</td>\n",
       "      <td>0</td>\n",
       "      <td>NaN</td>\n",
       "      <td>MnPrv</td>\n",
       "      <td>NaN</td>\n",
       "      <td>0</td>\n",
       "      <td>6</td>\n",
       "      <td>2010</td>\n",
       "      <td>WD</td>\n",
       "      <td>Normal</td>\n",
       "      <td>105000</td>\n",
       "    </tr>\n",
       "    <tr>\n",
       "      <th>2</th>\n",
       "      <td>3</td>\n",
       "      <td>526351010</td>\n",
       "      <td>20</td>\n",
       "      <td>RL</td>\n",
       "      <td>81.0</td>\n",
       "      <td>14267</td>\n",
       "      <td>Pave</td>\n",
       "      <td>NaN</td>\n",
       "      <td>IR1</td>\n",
       "      <td>Lvl</td>\n",
       "      <td>...</td>\n",
       "      <td>0</td>\n",
       "      <td>NaN</td>\n",
       "      <td>NaN</td>\n",
       "      <td>Gar2</td>\n",
       "      <td>12500</td>\n",
       "      <td>6</td>\n",
       "      <td>2010</td>\n",
       "      <td>WD</td>\n",
       "      <td>Normal</td>\n",
       "      <td>172000</td>\n",
       "    </tr>\n",
       "    <tr>\n",
       "      <th>3</th>\n",
       "      <td>4</td>\n",
       "      <td>526353030</td>\n",
       "      <td>20</td>\n",
       "      <td>RL</td>\n",
       "      <td>93.0</td>\n",
       "      <td>11160</td>\n",
       "      <td>Pave</td>\n",
       "      <td>NaN</td>\n",
       "      <td>Reg</td>\n",
       "      <td>Lvl</td>\n",
       "      <td>...</td>\n",
       "      <td>0</td>\n",
       "      <td>NaN</td>\n",
       "      <td>NaN</td>\n",
       "      <td>NaN</td>\n",
       "      <td>0</td>\n",
       "      <td>4</td>\n",
       "      <td>2010</td>\n",
       "      <td>WD</td>\n",
       "      <td>Normal</td>\n",
       "      <td>244000</td>\n",
       "    </tr>\n",
       "    <tr>\n",
       "      <th>4</th>\n",
       "      <td>5</td>\n",
       "      <td>527105010</td>\n",
       "      <td>60</td>\n",
       "      <td>RL</td>\n",
       "      <td>74.0</td>\n",
       "      <td>13830</td>\n",
       "      <td>Pave</td>\n",
       "      <td>NaN</td>\n",
       "      <td>IR1</td>\n",
       "      <td>Lvl</td>\n",
       "      <td>...</td>\n",
       "      <td>0</td>\n",
       "      <td>NaN</td>\n",
       "      <td>MnPrv</td>\n",
       "      <td>NaN</td>\n",
       "      <td>0</td>\n",
       "      <td>3</td>\n",
       "      <td>2010</td>\n",
       "      <td>WD</td>\n",
       "      <td>Normal</td>\n",
       "      <td>189900</td>\n",
       "    </tr>\n",
       "  </tbody>\n",
       "</table>\n",
       "<p>5 rows × 82 columns</p>\n",
       "</div>"
      ],
      "text/plain": [
       "   Order        PID  MS SubClass MS Zoning  Lot Frontage  Lot Area Street  \\\n",
       "0      1  526301100           20        RL         141.0     31770   Pave   \n",
       "1      2  526350040           20        RH          80.0     11622   Pave   \n",
       "2      3  526351010           20        RL          81.0     14267   Pave   \n",
       "3      4  526353030           20        RL          93.0     11160   Pave   \n",
       "4      5  527105010           60        RL          74.0     13830   Pave   \n",
       "\n",
       "  Alley Lot Shape Land Contour    ...     Pool Area Pool QC  Fence  \\\n",
       "0   NaN       IR1          Lvl    ...             0     NaN    NaN   \n",
       "1   NaN       Reg          Lvl    ...             0     NaN  MnPrv   \n",
       "2   NaN       IR1          Lvl    ...             0     NaN    NaN   \n",
       "3   NaN       Reg          Lvl    ...             0     NaN    NaN   \n",
       "4   NaN       IR1          Lvl    ...             0     NaN  MnPrv   \n",
       "\n",
       "  Misc Feature Misc Val Mo Sold Yr Sold Sale Type  Sale Condition  SalePrice  \n",
       "0          NaN        0       5    2010       WD           Normal     215000  \n",
       "1          NaN        0       6    2010       WD           Normal     105000  \n",
       "2         Gar2    12500       6    2010       WD           Normal     172000  \n",
       "3          NaN        0       4    2010       WD           Normal     244000  \n",
       "4          NaN        0       3    2010       WD           Normal     189900  \n",
       "\n",
       "[5 rows x 82 columns]"
      ]
     },
     "execution_count": 2,
     "metadata": {},
     "output_type": "execute_result"
    }
   ],
   "source": [
    "# Read in the AmesHousing.tsv file for analysis\n",
    "data = pd.read_csv('AmesHousing.tsv', delimiter='\\t')\n",
    "data.head()"
   ]
  },
  {
   "cell_type": "code",
   "execution_count": 9,
   "metadata": {
    "collapsed": false
   },
   "outputs": [
    {
     "data": {
      "text/plain": [
       "33138.29684594521"
      ]
     },
     "execution_count": 9,
     "metadata": {},
     "output_type": "execute_result"
    }
   ],
   "source": [
    "# Function to transform features to a format this useful for modeling\n",
    "def transform_features(data):\n",
    "    num_missing = data.isnull().sum()\n",
    "    missing_cols_to_drop = num_missing[(num_missing > len(data)/20)].sort_values()\n",
    "    data = data.drop(missing_cols_to_drop.index, axis=1)\n",
    "    \n",
    "    text_missing_vals = data.select_dtypes(include=['object']).isnull().sum()\n",
    "    missing_cols_to_drop2 = text_missing_vals[text_missing_vals > 0]\n",
    "    data = data.drop(missing_cols_to_drop2.index, axis=1)\n",
    "    \n",
    "    num_missing = data.select_dtypes(include=['int', 'float']).isnull().sum()\n",
    "    numeric_cols_to_fix = num_missing[(num_missing < len(data)/20) &\n",
    "                                 (num_missing > 0)]\n",
    "    values_to_use = data[numeric_cols_to_fix.index].mode().to_dict(orient='records')[0]\n",
    "    data = data.fillna(values_to_use)\n",
    "    \n",
    "    data['years_until_sold'] = data['Yr Sold'] - data['Year Built']\n",
    "    data['years_since_remod'] = data['Yr Sold'] - data['Year Remod/Add']\n",
    "    data = data[(data['years_until_sold'] >= 0) & (data['years_since_remod'] >= 0)]\n",
    "    data = data.drop(['Year Built', 'Year Remod/Add'], axis=1)\n",
    "    \n",
    "    data = data.drop(['PID','Order','Mo Sold','Sale Condition','Sale Type','Yr Sold'], axis=1)\n",
    "    \n",
    "    return data\n",
    "\n",
    "# Function to select the features we want to use for our modeling\n",
    "def select_features(data, coeff_threshold=0.4, cat_threshold=10):\n",
    "    numerical_cols = data.select_dtypes(include=['int','float'])\n",
    "    numerical_coeffs = numerical_cols.corr()['SalePrice'].abs()\n",
    "    data = data.drop(numerical_coeffs[numerical_coeffs < coeff_threshold].index, axis=1)\n",
    "    \n",
    "    nominal_cols = [\"PID\",\"MS SubClass\",\"MS Zoning\",\"Street\",\"Alley\",\n",
    "                \"Land Contour\",\"Lot Config\",\"Neighborhood\",\"Condition 1\",\n",
    "                \"Condition 2\",\"Bldg Type\",\"House Style\",\"Roof Style\",\n",
    "                \"Roof Matl\",\"Exterior 1st\",\"Exterior 2nd\",\"Mas Vnr Type\",\n",
    "                \"Foundation\",\"Heating\",\"Central Air\",\"Garage Type\",\n",
    "                \"Misc Feature\",\"Sale Type\",\"Sale Condition\"]\n",
    "    \n",
    "    remaining_cat_cols = []\n",
    "    for col in nominal_cols:\n",
    "        if col in data.columns:\n",
    "            remaining_cat_cols.append(col)\n",
    "            \n",
    "    col_cat_count = data[remaining_cat_cols].apply(lambda col: len(col.value_counts()))\n",
    "    data = data.drop(col_cat_count[col_cat_count > cat_threshold].index, axis=1)\n",
    "    \n",
    "    text_cols = data.select_dtypes(include=['object'])\n",
    "    for col in text_cols:\n",
    "        data[col] = data[col].astype('category')\n",
    "    \n",
    "    data = pd.concat([data,pd.get_dummies(data.select_dtypes(\n",
    "        include=['category']))], axis=1)\n",
    "    data = data.drop(text_cols, axis=1)\n",
    "    \n",
    "    return data\n",
    "\n",
    "# Function to perform our training of a model and analysis of results using RMSE\n",
    "def train_and_test(data, k=0):\n",
    "    numerical_cols = data.select_dtypes(include=['int','float'])\n",
    "    train_cols = numerical_cols.columns.drop('SalePrice')\n",
    "    lr = LinearRegression()\n",
    "    \n",
    "    if k == 0:\n",
    "        train = data[0:1460]\n",
    "        test = data[1460:]\n",
    "    \n",
    "        lr.fit(train[train_cols], train['SalePrice'])\n",
    "        test_predictions = lr.predict(test[train_cols])\n",
    "        mse = mean_squared_error(test_predictions, test['SalePrice'])\n",
    "        rmse = np.sqrt(mse)\n",
    "        return rmse\n",
    "    \n",
    "    if k == 1:\n",
    "        shuffled_data = data.sample(frac=1,)\n",
    "        fold_one = data[0:1460]\n",
    "        fold_two = data[1460:]\n",
    "        \n",
    "        lr.fit(fold_one[train_cols], fold_one['SalePrice'])\n",
    "        predictions_one = lr.predict(fold_two[train_cols])\n",
    "        mse_one = mean_squared_error(predictions_one, fold_two['SalePrice'])\n",
    "        rmse_one = np.sqrt(mse_one)\n",
    "        \n",
    "        lr.fit(fold_two[train_cols], fold_two['SalePrice'])\n",
    "        predictions_two = lr.predict(fold_one[train_cols])\n",
    "        mse_two = mean_squared_error(predictions_two, fold_two['SalePrice'])\n",
    "        rmse_two = np.sqrt(mse_two)\n",
    "        \n",
    "        return np.mean([rmse_one, rmse_two])\n",
    "    else:\n",
    "        kf = KFold(n_splits=k, shuffle=True)\n",
    "        rmses = []\n",
    "        for train_index, test_index in kf.split(data):\n",
    "            train = data.iloc[train_index]\n",
    "            test = data.iloc[test_index]\n",
    "            lr.fit(train[train_cols], train['SalePrice'])\n",
    "            predictions = lr.predict(test[train_cols])\n",
    "            mse = mean_squared_error(test['SalePrice'],predictions)\n",
    "            rmse = np.sqrt(mse)\n",
    "            rmses.append(rmse)\n",
    "        return np.mean(rmses)\n",
    "\n",
    "transform_data = transform_features(data)\n",
    "selected_data = select_features(transform_data)\n",
    "rmse = train_and_test(selected_data, k=4)\n",
    "rmse"
   ]
  },
  {
   "cell_type": "markdown",
   "metadata": {},
   "source": [
    "## Feature Engineering\n",
    "\n",
    "We will first look at transforming the features that we use for our model to be in a format that is helpful in determining our predictions.\n",
    "\n",
    "Let's begin by removing any column that is missing more than 5% of the values."
   ]
  },
  {
   "cell_type": "code",
   "execution_count": null,
   "metadata": {
    "collapsed": true
   },
   "outputs": [],
   "source": [
    "num_missing = data.isnull().sum()"
   ]
  },
  {
   "cell_type": "code",
   "execution_count": null,
   "metadata": {
    "collapsed": false
   },
   "outputs": [],
   "source": [
    "missing_cols_to_drop = num_missing[(num_missing > len(data)/20)].sort_values()\n",
    "\n",
    "data = data.drop(missing_cols_to_drop.index, axis=1)"
   ]
  },
  {
   "cell_type": "markdown",
   "metadata": {},
   "source": [
    "Next, let's drop any text columns that are missing any data at all."
   ]
  },
  {
   "cell_type": "code",
   "execution_count": null,
   "metadata": {
    "collapsed": true
   },
   "outputs": [],
   "source": [
    "text_missing_vals = data.select_dtypes(include=['object']).isnull().sum()\n",
    "\n",
    "missing_cols_to_drop2 = text_missing_vals[text_missing_vals > 0]\n",
    "\n",
    "data = data.drop(missing_cols_to_drop2.index, axis=1)"
   ]
  },
  {
   "cell_type": "markdown",
   "metadata": {},
   "source": [
    "Finally, let's fill in any remaining null values within the numerical columns with the most common value for that row."
   ]
  },
  {
   "cell_type": "code",
   "execution_count": null,
   "metadata": {
    "collapsed": false
   },
   "outputs": [],
   "source": [
    "num_missing = data.select_dtypes(include=['int', 'float']).isnull().sum()\n",
    "numeric_cols_to_fix = num_missing[(num_missing < len(data)/20) &\n",
    "                                 (num_missing > 0)]\n",
    "values_to_use = data[numeric_cols_to_fix.index].mode().to_dict(orient='records')[0]"
   ]
  },
  {
   "cell_type": "code",
   "execution_count": null,
   "metadata": {
    "collapsed": false
   },
   "outputs": [],
   "source": [
    "data = data.fillna(values_to_use)\n",
    "data.isnull().sum().value_counts()"
   ]
  },
  {
   "cell_type": "markdown",
   "metadata": {},
   "source": [
    "While the year a house was sold, the year it was built and the year it was remodeled or had an addition all don't really tell us useful information in modeling. Together they can provide us useful information such as years from when it was built to when it was sold or years since it has been remodeled."
   ]
  },
  {
   "cell_type": "code",
   "execution_count": null,
   "metadata": {
    "collapsed": false
   },
   "outputs": [],
   "source": [
    "data['years_until_sold'] = data['Yr Sold'] - data['Year Built']\n",
    "data['years_since_remod'] = data['Yr Sold'] - data['Year Remod/Add']\n",
    "\n",
    "# No value from the above columns should be negative.\n",
    "# This wouldn't make sense as the Yr Sold should be the largest year\n",
    "data = data[(data['years_until_sold'] >= 0) & (data['years_since_remod'] >= 0)]\n",
    "\n",
    "# We'll also remove the columns that were used for conversions\n",
    "data = data.drop(['Year Built', 'Year Remod/Add'], axis=1)"
   ]
  },
  {
   "cell_type": "markdown",
   "metadata": {},
   "source": [
    "Finally, let's look at which columns just aren't useful for machine learning or columns that just leak data about the final sale"
   ]
  },
  {
   "cell_type": "code",
   "execution_count": null,
   "metadata": {
    "collapsed": true
   },
   "outputs": [],
   "source": [
    "# PID and Orer don't tell us useful information for this analysis\n",
    "data = data.drop(['PID','Order'], axis=1)\n",
    "\n",
    "# Mo Sold, Sale Condition, Sale Type and Yr Sold tell us info about the sale\n",
    "data = data.drop(['Mo Sold','Sale Condition','Sale Type','Yr Sold'], axis=1)"
   ]
  },
  {
   "cell_type": "markdown",
   "metadata": {},
   "source": [
    "At this point, we'll update our function for transform_features() to incorporate these changes."
   ]
  },
  {
   "cell_type": "markdown",
   "metadata": {},
   "source": [
    "## Feature Selection\n",
    "\n",
    "Now, we'll look at which features give us the best correlation to the predictions we want to make."
   ]
  },
  {
   "cell_type": "code",
   "execution_count": null,
   "metadata": {
    "collapsed": false
   },
   "outputs": [],
   "source": [
    "numerical_cols = transform_data.select_dtypes(include=['int','float'])\n",
    "numerical_coeffs = numerical_cols.corr()['SalePrice'].abs()\n",
    "numerical_coeffs.sort_values()"
   ]
  },
  {
   "cell_type": "code",
   "execution_count": null,
   "metadata": {
    "collapsed": false
   },
   "outputs": [],
   "source": [
    "sns.heatmap(numerical_cols.corr().abs())"
   ]
  },
  {
   "cell_type": "markdown",
   "metadata": {},
   "source": [
    "Gr Living Area and Overal Qual seem to have the best correlation to our target, SalePrice. Further, there are a number of features that don't correlate well at all. Let's remove some of those."
   ]
  },
  {
   "cell_type": "code",
   "execution_count": null,
   "metadata": {
    "collapsed": false
   },
   "outputs": [],
   "source": [
    "# Let's remove any features that have a correlation coefficient below 0.4\n",
    "transform_data = transform_data.drop(numerical_coeffs[numerical_coeffs < 0.4].index, axis=1)"
   ]
  },
  {
   "cell_type": "code",
   "execution_count": null,
   "metadata": {
    "collapsed": false
   },
   "outputs": [],
   "source": [
    "numerical_cols = transform_data.select_dtypes(include=['int','float'])\n",
    "numerical_coeffs = numerical_cols.corr()['SalePrice'].abs()\n",
    "numerical_coeffs.sort_values()"
   ]
  },
  {
   "cell_type": "markdown",
   "metadata": {},
   "source": [
    "There are a number of columns that should be categorical. Let's separate those."
   ]
  },
  {
   "cell_type": "code",
   "execution_count": null,
   "metadata": {
    "collapsed": true
   },
   "outputs": [],
   "source": [
    "# List of columns from documentation that should be catgorical\n",
    "nominal_cols = [\"PID\",\"MS SubClass\",\"MS Zoning\",\"Street\",\"Alley\",\n",
    "                \"Land Contour\",\"Lot Config\",\"Neighborhood\",\"Condition 1\",\n",
    "                \"Condition 2\",\"Bldg Type\",\"House Style\",\"Roof Style\",\n",
    "                \"Roof Matl\",\"Exterior 1st\",\"Exterior 2nd\",\"Mas Vnr Type\",\n",
    "                \"Foundation\",\"Heating\",\"Central Air\",\"Garage Type\",\n",
    "                \"Misc Feature\",\"Sale Type\",\"Sale Condition\"]"
   ]
  },
  {
   "cell_type": "code",
   "execution_count": null,
   "metadata": {
    "collapsed": true
   },
   "outputs": [],
   "source": [
    "# Of the listed nominal cols, let's see what we have left to use\n",
    "remaining_cat_cols = []\n",
    "for col in nominal_cols:\n",
    "    if col in transform_data.columns:\n",
    "        remaining_cat_cols.append(col)\n",
    "        \n",
    "# Let's get rid of the columns that seem to have too many options to really\n",
    "# make them useful for our model\n",
    "col_cat_count = transform_data[remaining_cat_cols].apply(lambda col: len(col.value_counts()))\n",
    "transform_data = transform_data.drop(col_cat_count[col_cat_count > 10].index, axis=1)"
   ]
  },
  {
   "cell_type": "markdown",
   "metadata": {},
   "source": [
    "Let's finally convert the remaining categorical columns to a categorical type."
   ]
  },
  {
   "cell_type": "code",
   "execution_count": null,
   "metadata": {
    "collapsed": false
   },
   "outputs": [],
   "source": [
    "text_cols = transform_data.select_dtypes(include=['object'])\n",
    "for col in text_cols:\n",
    "    transform_data[col] = transform_data[col].astype('category')\n",
    "    \n",
    "transform_data = pd.concat([transform_data,\n",
    "                           pd.get_dummies(transform_data.select_dtypes(include=['category']))],\n",
    "                           axis=1)\n",
    "transform_data = transform_data.drop(text_cols, axis=1)"
   ]
  },
  {
   "cell_type": "markdown",
   "metadata": {},
   "source": [
    "At this point, we'll update the select_features function with the calculations we made."
   ]
  }
 ],
 "metadata": {
  "anaconda-cloud": {},
  "kernelspec": {
   "display_name": "Python 3",
   "language": "python",
   "name": "python3"
  },
  "language_info": {
   "codemirror_mode": {
    "name": "ipython",
    "version": 3
   },
   "file_extension": ".py",
   "mimetype": "text/x-python",
   "name": "python",
   "nbconvert_exporter": "python",
   "pygments_lexer": "ipython3",
   "version": "3.4.3"
  }
 },
 "nbformat": 4,
 "nbformat_minor": 2
}
