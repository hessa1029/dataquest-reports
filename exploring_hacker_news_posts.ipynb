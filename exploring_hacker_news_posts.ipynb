{
 "cells": [
  {
   "cell_type": "markdown",
   "metadata": {
    "collapsed": true
   },
   "source": [
    "# Exploring Hacker News Posts\n",
    "\n",
    "Hacker News is a site where user-submitted stories are voted and commented upon. It is extremely popular in technology and startup circles, and posts that are at the top of their listings get hundreds of thousands of visitors as a result.\n",
    "\n",
    "We will be working with a data set of these posts that has been reduced from around 300,000 rows to approximately 20,000 by removing the submissions that did not receive any comments. The data includes details about each post including the url, the title, the number of points acquired as a difference of upvotes to downvotes, number of comments, author and when it was created.\n",
    "\n",
    "We will be focusing on those that being with either `Ask HN` or `Show HN` for where users ask questions of the community or post projects or other interesting information to the community.\n",
    "\n",
    "We want to determine which of these two types of posts receive more comments on average and are their certain times that seem to increase the average number of comments."
   ]
  },
  {
   "cell_type": "code",
   "execution_count": 5,
   "metadata": {
    "collapsed": true
   },
   "outputs": [],
   "source": [
    "import csv"
   ]
  },
  {
   "cell_type": "code",
   "execution_count": 6,
   "metadata": {
    "collapsed": false
   },
   "outputs": [
    {
     "data": {
      "text/plain": [
       "[['id', 'title', 'url', 'num_points', 'num_comments', 'author', 'created_at'],\n",
       " ['12224879',\n",
       "  'Interactive Dynamic Video',\n",
       "  'http://www.interactivedynamicvideo.com/',\n",
       "  '386',\n",
       "  '52',\n",
       "  'ne0phyte',\n",
       "  '8/4/2016 11:52'],\n",
       " ['10975351',\n",
       "  'How to Use Open Source and Shut the Fuck Up at the Same Time',\n",
       "  'http://hueniverse.com/2016/01/26/how-to-use-open-source-and-shut-the-fuck-up-at-the-same-time/',\n",
       "  '39',\n",
       "  '10',\n",
       "  'josep2',\n",
       "  '1/26/2016 19:30'],\n",
       " ['11964716',\n",
       "  \"Florida DJs May Face Felony for April Fools' Water Joke\",\n",
       "  'http://www.thewire.com/entertainment/2013/04/florida-djs-april-fools-water-joke/63798/',\n",
       "  '2',\n",
       "  '1',\n",
       "  'vezycash',\n",
       "  '6/23/2016 22:20'],\n",
       " ['11919867',\n",
       "  'Technology ventures: From Idea to Enterprise',\n",
       "  'https://www.amazon.com/Technology-Ventures-Enterprise-Thomas-Byers/dp/0073523429',\n",
       "  '3',\n",
       "  '1',\n",
       "  'hswarna',\n",
       "  '6/17/2016 0:01']]"
      ]
     },
     "execution_count": 6,
     "metadata": {},
     "output_type": "execute_result"
    }
   ],
   "source": [
    "with open('hacker_news.csv', 'r') as f:\n",
    "    reader = csv.reader(f)\n",
    "    hn = list(reader)\n",
    "    \n",
    "hn[:5]"
   ]
  },
  {
   "cell_type": "code",
   "execution_count": 7,
   "metadata": {
    "collapsed": false
   },
   "outputs": [
    {
     "name": "stdout",
     "output_type": "stream",
     "text": [
      "['id', 'title', 'url', 'num_points', 'num_comments', 'author', 'created_at']\n",
      "[['12224879', 'Interactive Dynamic Video', 'http://www.interactivedynamicvideo.com/', '386', '52', 'ne0phyte', '8/4/2016 11:52'], ['10975351', 'How to Use Open Source and Shut the Fuck Up at the Same Time', 'http://hueniverse.com/2016/01/26/how-to-use-open-source-and-shut-the-fuck-up-at-the-same-time/', '39', '10', 'josep2', '1/26/2016 19:30'], ['11964716', \"Florida DJs May Face Felony for April Fools' Water Joke\", 'http://www.thewire.com/entertainment/2013/04/florida-djs-april-fools-water-joke/63798/', '2', '1', 'vezycash', '6/23/2016 22:20'], ['11919867', 'Technology ventures: From Idea to Enterprise', 'https://www.amazon.com/Technology-Ventures-Enterprise-Thomas-Byers/dp/0073523429', '3', '1', 'hswarna', '6/17/2016 0:01'], ['10301696', 'Note by Note: The Making of Steinway L1037 (2007)', 'http://www.nytimes.com/2007/11/07/movies/07stein.html?_r=0', '8', '2', 'walterbell', '9/30/2015 4:12']]\n"
     ]
    }
   ],
   "source": [
    "headers = hn[0]\n",
    "hn = hn[1:]\n",
    "print(headers)\n",
    "print(hn[:5])"
   ]
  },
  {
   "cell_type": "markdown",
   "metadata": {},
   "source": [
    "Let's remvoe the rows from our data that we are not concerned with. We will filter to only those rows that start with either `Ask HN` or `Show HN`."
   ]
  },
  {
   "cell_type": "code",
   "execution_count": 8,
   "metadata": {
    "collapsed": false
   },
   "outputs": [
    {
     "name": "stdout",
     "output_type": "stream",
     "text": [
      "Number of \"Ask HN\" posts: 1744\n",
      "Number of \"Show HN posts: 1162\n",
      "Number of other posts: 17194\n"
     ]
    }
   ],
   "source": [
    "ask_posts = []\n",
    "show_posts = []\n",
    "other_posts = []\n",
    "for row in hn:\n",
    "    if row[1].lower().startswith('ask hn'):\n",
    "        ask_posts.append(row)\n",
    "    elif row[1].lower().startswith('show hn'):\n",
    "        show_posts.append(row)\n",
    "    else:\n",
    "        other_posts.append(row)\n",
    "        \n",
    "print('Number of \"Ask HN\" posts: {}'.format(len(ask_posts)))\n",
    "print('Number of \"Show HN posts: {}'.format(len(show_posts)))\n",
    "print('Number of other posts: {}'.format(len(other_posts)))"
   ]
  },
  {
   "cell_type": "markdown",
   "metadata": {},
   "source": [
    "Let's find the total number of comments in the ask posts and then determine the average number of comments for ask posts."
   ]
  },
  {
   "cell_type": "code",
   "execution_count": 9,
   "metadata": {
    "collapsed": false
   },
   "outputs": [
    {
     "name": "stdout",
     "output_type": "stream",
     "text": [
      "14.038417431192661\n"
     ]
    }
   ],
   "source": [
    "total_ask_comments = 0\n",
    "for row in ask_posts:\n",
    "    total_ask_comments += int(row[4])\n",
    "    \n",
    "avg_ask_comments = total_ask_comments / len(ask_posts)\n",
    "print(avg_ask_comments)"
   ]
  },
  {
   "cell_type": "markdown",
   "metadata": {},
   "source": [
    "Let's also find the total number of comments in the show posts and then determine the average number of comments in show posts."
   ]
  },
  {
   "cell_type": "code",
   "execution_count": 11,
   "metadata": {
    "collapsed": false
   },
   "outputs": [
    {
     "name": "stdout",
     "output_type": "stream",
     "text": [
      "10.31669535283993\n"
     ]
    }
   ],
   "source": [
    "total_show_comments = 0\n",
    "\n",
    "for row in show_posts:\n",
    "    total_show_comments += int(row[4])\n",
    "    \n",
    "avg_show_comments = total_show_comments / len(show_posts)\n",
    "print(avg_show_comments)"
   ]
  },
  {
   "cell_type": "markdown",
   "metadata": {},
   "source": [
    "It appears that ask posts seem to have more comments on average than show posts. Based on this finding, we'll focus on only the ask posts for the remainder of our analysis."
   ]
  },
  {
   "cell_type": "markdown",
   "metadata": {},
   "source": [
    "# Ask Posts and Comments by Hour\n",
    "\n",
    "We'll separate out the posts by each hour of the day along with the comments associated to each posts. We'll then use this to determine the best time to create a post if we want to maximize the comments we get."
   ]
  },
  {
   "cell_type": "code",
   "execution_count": 14,
   "metadata": {
    "collapsed": false
   },
   "outputs": [
    {
     "name": "stdout",
     "output_type": "stream",
     "text": [
      "{'09': 45, '22': 71, '04': 47, '07': 34, '11': 58, '21': 109, '12': 73, '19': 110, '14': 107, '06': 44, '10': 59, '15': 116, '05': 46, '18': 109, '16': 108, '13': 85, '23': 68, '08': 48, '20': 80, '17': 100, '03': 54, '02': 58, '00': 55, '01': 60}\n",
      "{'09': 251, '22': 479, '04': 337, '07': 267, '11': 641, '21': 1745, '12': 687, '19': 1188, '14': 1416, '06': 397, '10': 793, '15': 4477, '05': 464, '18': 1439, '16': 1814, '13': 1253, '23': 543, '08': 492, '20': 1722, '17': 1146, '03': 421, '02': 1381, '00': 447, '01': 683}\n"
     ]
    }
   ],
   "source": [
    "import datetime as dt\n",
    "\n",
    "result_list = []\n",
    "\n",
    "for post in ask_posts:\n",
    "    result_list.append([post[6],int(post[4])])\n",
    "    \n",
    "counts_by_hour = {}\n",
    "comments_by_hour = {}\n",
    "for row in result_list:\n",
    "    hour = dt.datetime.strptime(row[0], '%m/%d/%Y %H:%M').strftime('%H')\n",
    "    if hour not in counts_by_hour:\n",
    "        counts_by_hour[hour] = 1\n",
    "        comments_by_hour[hour] = row[1]\n",
    "    elif hour in counts_by_hour:\n",
    "        counts_by_hour[hour] += 1\n",
    "        comments_by_hour[hour] += row[1]\n",
    "        \n",
    "print(counts_by_hour)\n",
    "print(comments_by_hour)"
   ]
  },
  {
   "cell_type": "markdown",
   "metadata": {},
   "source": [
    "We now have the number of posts by hour and the number of comments by hour. Now, we'll combine these to get the average number of comments per post per hour."
   ]
  },
  {
   "cell_type": "code",
   "execution_count": 15,
   "metadata": {
    "collapsed": false
   },
   "outputs": [
    {
     "data": {
      "text/plain": [
       "[['09', 5.5777777777777775],\n",
       " ['22', 6.746478873239437],\n",
       " ['04', 7.170212765957447],\n",
       " ['07', 7.852941176470588],\n",
       " ['11', 11.051724137931034],\n",
       " ['21', 16.009174311926607],\n",
       " ['12', 9.41095890410959],\n",
       " ['19', 10.8],\n",
       " ['14', 13.233644859813085],\n",
       " ['06', 9.022727272727273],\n",
       " ['10', 13.440677966101696],\n",
       " ['15', 38.5948275862069],\n",
       " ['05', 10.08695652173913],\n",
       " ['18', 13.20183486238532],\n",
       " ['16', 16.796296296296298],\n",
       " ['13', 14.741176470588234],\n",
       " ['23', 7.985294117647059],\n",
       " ['08', 10.25],\n",
       " ['20', 21.525],\n",
       " ['17', 11.46],\n",
       " ['03', 7.796296296296297],\n",
       " ['02', 23.810344827586206],\n",
       " ['00', 8.127272727272727],\n",
       " ['01', 11.383333333333333]]"
      ]
     },
     "execution_count": 15,
     "metadata": {},
     "output_type": "execute_result"
    }
   ],
   "source": [
    "avg_by_hour = []\n",
    "\n",
    "\n",
    "for hour in comments_by_hour:\n",
    "    average = comments_by_hour[hour] / counts_by_hour[hour]\n",
    "    avg_by_hour.append([hour, average])\n",
    "    \n",
    "avg_by_hour"
   ]
  },
  {
   "cell_type": "markdown",
   "metadata": {},
   "source": [
    "We'll finish by sorting our list to place the hours with the highest average comments per post toward the top."
   ]
  },
  {
   "cell_type": "code",
   "execution_count": 16,
   "metadata": {
    "collapsed": false
   },
   "outputs": [
    {
     "name": "stdout",
     "output_type": "stream",
     "text": [
      "[[5.5777777777777775, '09'], [6.746478873239437, '22'], [7.170212765957447, '04'], [7.852941176470588, '07'], [11.051724137931034, '11'], [16.009174311926607, '21'], [9.41095890410959, '12'], [10.8, '19'], [13.233644859813085, '14'], [9.022727272727273, '06'], [13.440677966101696, '10'], [38.5948275862069, '15'], [10.08695652173913, '05'], [13.20183486238532, '18'], [16.796296296296298, '16'], [14.741176470588234, '13'], [7.985294117647059, '23'], [10.25, '08'], [21.525, '20'], [11.46, '17'], [7.796296296296297, '03'], [23.810344827586206, '02'], [8.127272727272727, '00'], [11.383333333333333, '01']]\n"
     ]
    }
   ],
   "source": [
    "swap_avg_by_hour = []\n",
    "\n",
    "for row in avg_by_hour:\n",
    "    swap_avg_by_hour.append([row[1], row[0]])\n",
    "    \n",
    "print(swap_avg_by_hour)"
   ]
  },
  {
   "cell_type": "code",
   "execution_count": 17,
   "metadata": {
    "collapsed": false
   },
   "outputs": [
    {
     "name": "stdout",
     "output_type": "stream",
     "text": [
      "Top 5 Hours for Ask Post Comments\n",
      "15:00: 38.59 average comments per post\n",
      "02:00: 23.81 average comments per post\n",
      "20:00: 21.52 average comments per post\n",
      "16:00: 16.80 average comments per post\n",
      "21:00: 16.01 average comments per post\n"
     ]
    }
   ],
   "source": [
    "sorted_swap = sorted(swap_avg_by_hour, reverse=True)\n",
    "\n",
    "print('Top 5 Hours for Ask Post Comments')\n",
    "\n",
    "for row in sorted_swap[:5]:\n",
    "    avg = row[0]\n",
    "    hour = dt.datetime.strptime(row[1], '%H').strftime('%H:%M')\n",
    "    print('{}: {:.2f} average comments per post'.format(hour, avg))"
   ]
  },
  {
   "cell_type": "markdown",
   "metadata": {},
   "source": [
    "Based on these results, it appears that we should write an `Ask HN` post around 3:00 PM EST if we want to get the most comments on our post. We did originally exclude posts without any comments, so we can only conclude that of the posts that get comments, we would expect to get the most comments with this type of post around this time of day."
   ]
  },
  {
   "cell_type": "code",
   "execution_count": null,
   "metadata": {
    "collapsed": true
   },
   "outputs": [],
   "source": []
  }
 ],
 "metadata": {
  "kernelspec": {
   "display_name": "Python 3",
   "language": "python",
   "name": "python3"
  },
  "language_info": {
   "codemirror_mode": {
    "name": "ipython",
    "version": 3
   },
   "file_extension": ".py",
   "mimetype": "text/x-python",
   "name": "python",
   "nbconvert_exporter": "python",
   "pygments_lexer": "ipython3",
   "version": "3.4.3"
  }
 },
 "nbformat": 4,
 "nbformat_minor": 2
}
