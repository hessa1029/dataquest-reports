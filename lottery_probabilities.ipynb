{
 "cells": [
  {
   "cell_type": "markdown",
   "metadata": {},
   "source": [
    "# Mobile App for Lottery Addiction\n",
    "\n",
    "We have been tasked by a medical institute to come up with a mobile app aimed to prevent and treat gambling addictions related to a 6/49 lottery. In order to do this, we want to tackle three questions related to the probabilities of winning:\n",
    "\n",
    "- What is the probability of winning the big prize with a single ticket?\n",
    "- What is the probability of winning the big prize if we play 40 different tickets (or any other number)?\n",
    "- What is the probability of having at least five (or four, or three, or two) winning numbers on a single ticket?\n",
    "\n",
    "The institute also wants us to consider historical data coming from the national 6/49 lottery game in Canada. We have data for 3,665 drawings, dating from 1982 to 2018."
   ]
  },
  {
   "cell_type": "markdown",
   "metadata": {},
   "source": [
    "In order to answer our questions related to probabilities, we will need two functions:\n",
    "    1. factorial\n",
    "    2. combinations"
   ]
  },
  {
   "cell_type": "code",
   "execution_count": 1,
   "metadata": {
    "collapsed": false
   },
   "outputs": [
    {
     "data": {
      "text/plain": [
       "6"
      ]
     },
     "execution_count": 1,
     "metadata": {},
     "output_type": "execute_result"
    }
   ],
   "source": [
    "#create function to calculate factorial of a number\n",
    "#i.e. factorial(3) = 3! = 3*2*1 = 6\n",
    "def factorial(n):\n",
    "    i = n\n",
    "    num = 1\n",
    "    while i > 0:\n",
    "        num *= i\n",
    "        i-=1\n",
    "    return num\n",
    "\n",
    "factorial(3)"
   ]
  },
  {
   "cell_type": "code",
   "execution_count": 2,
   "metadata": {
    "collapsed": false
   },
   "outputs": [
    {
     "data": {
      "text/plain": [
       "6.0"
      ]
     },
     "execution_count": 2,
     "metadata": {},
     "output_type": "execute_result"
    }
   ],
   "source": [
    "#create function to calculate combinations given k objects take from a group of n objects\n",
    "#i.e. combinations(4,2) = 4!/(2!(4-2)!) = 4*3*2*1/(2*1*2*1) = 6\n",
    "def combinations(n,k):\n",
    "    return factorial(n) / (factorial(k)*factorial(n-k))\n",
    "\n",
    "combinations(4,2)"
   ]
  },
  {
   "cell_type": "markdown",
   "metadata": {},
   "source": [
    "## Probability of winning the jackpot\n",
    "\n",
    "We will first provide the probability of winning the jackpot given any list of 6 numbers provided by the user. This consists of 1 possible combination out of all outcomes from a combination of 6 numbers from 49 possible numbers."
   ]
  },
  {
   "cell_type": "code",
   "execution_count": 4,
   "metadata": {
    "collapsed": false
   },
   "outputs": [
    {
     "name": "stdout",
     "output_type": "stream",
     "text": [
      "There are 13,983,816.0 possible outcomes\n",
      "Given your single outcome, this is 1 out of 13,983,816.0 possible outcomes\n",
      "\n",
      "    Given your numbers, [1, 2, 3, 4, 5, 6], the probability of winning is 0.0000072%\n",
      "    \n"
     ]
    }
   ],
   "source": [
    "#create function to calculate probability of winning lottery\n",
    "def one_ticket_probability(list):\n",
    "    total_outcomes = combinations(49, 6)\n",
    "    probability = (1 / total_outcomes) * 100\n",
    "    print('There are {:,} possible outcomes'.format(total_outcomes))\n",
    "    print('Given your single outcome, this is 1 out of {:,} possible outcomes'.format(total_outcomes))\n",
    "    print('''\n",
    "    Given your numbers, {}, the probability of winning is {:.7f}%\n",
    "    '''.format(list, probability))\n",
    "\n",
    "one_ticket_probability([1,2,3,4,5,6])"
   ]
  },
  {
   "cell_type": "markdown",
   "metadata": {},
   "source": [
    "Our function performed the following:\n",
    "\n",
    "1. We calculated the potential outcomes as the number of combinations of 6 numbers from 49 possible numbers.\n",
    "2. We then took one single set of 6 numbers out of all of these combinations and that provided our probability of winning."
   ]
  },
  {
   "cell_type": "code",
   "execution_count": 5,
   "metadata": {
    "collapsed": true
   },
   "outputs": [],
   "source": [
    "import pandas as pd\n",
    "import numpy as np\n",
    "\n",
    "lotto = pd.read_csv('649.csv')"
   ]
  },
  {
   "cell_type": "code",
   "execution_count": 6,
   "metadata": {
    "collapsed": false
   },
   "outputs": [
    {
     "data": {
      "text/plain": [
       "(3665, 11)"
      ]
     },
     "execution_count": 6,
     "metadata": {},
     "output_type": "execute_result"
    }
   ],
   "source": [
    "lotto.shape"
   ]
  },
  {
   "cell_type": "code",
   "execution_count": 7,
   "metadata": {
    "collapsed": false
   },
   "outputs": [
    {
     "name": "stdout",
     "output_type": "stream",
     "text": [
      "   PRODUCT  DRAW NUMBER  SEQUENCE NUMBER  DRAW DATE  NUMBER DRAWN 1  \\\n",
      "0      649            1                0  6/12/1982               3   \n",
      "1      649            2                0  6/19/1982               8   \n",
      "2      649            3                0  6/26/1982               1   \n",
      "\n",
      "   NUMBER DRAWN 2  NUMBER DRAWN 3  NUMBER DRAWN 4  NUMBER DRAWN 5  \\\n",
      "0              11              12              14              41   \n",
      "1              33              36              37              39   \n",
      "2               6              23              24              27   \n",
      "\n",
      "   NUMBER DRAWN 6  BONUS NUMBER  \n",
      "0              43            13  \n",
      "1              41             9  \n",
      "2              39            34  \n",
      "      PRODUCT  DRAW NUMBER  SEQUENCE NUMBER  DRAW DATE  NUMBER DRAWN 1  \\\n",
      "3662      649         3589                0  6/13/2018               6   \n",
      "3663      649         3590                0  6/16/2018               2   \n",
      "3664      649         3591                0  6/20/2018              14   \n",
      "\n",
      "      NUMBER DRAWN 2  NUMBER DRAWN 3  NUMBER DRAWN 4  NUMBER DRAWN 5  \\\n",
      "3662              22              24              31              32   \n",
      "3663              15              21              31              38   \n",
      "3664              24              31              35              37   \n",
      "\n",
      "      NUMBER DRAWN 6  BONUS NUMBER  \n",
      "3662              34            16  \n",
      "3663              49             8  \n",
      "3664              48            17  \n"
     ]
    }
   ],
   "source": [
    "print(lotto.head(3))\n",
    "print(lotto.tail(3))"
   ]
  },
  {
   "cell_type": "markdown",
   "metadata": {},
   "source": [
    "## Determine if a user's numbers would have won in Canada's lottery since 1982\n",
    "\n",
    "We will create a function to compare a user's set of 6 numbers and see how often this combination would have won in Canada's lottery."
   ]
  },
  {
   "cell_type": "code",
   "execution_count": 9,
   "metadata": {
    "collapsed": false
   },
   "outputs": [],
   "source": [
    "def extract_numbers(row):\n",
    "    row = row[4:10]\n",
    "    row = set(row.values)\n",
    "    return row\n",
    "\n",
    "winning_combinations = lotto.apply(extract_numbers, axis=1)"
   ]
  },
  {
   "cell_type": "code",
   "execution_count": 10,
   "metadata": {
    "collapsed": false
   },
   "outputs": [
    {
     "data": {
      "text/plain": [
       "0    {3, 41, 11, 12, 43, 14}\n",
       "1    {33, 36, 37, 39, 8, 41}\n",
       "2     {1, 6, 39, 23, 24, 27}\n",
       "3     {3, 9, 10, 43, 13, 20}\n",
       "4    {34, 5, 14, 47, 21, 31}\n",
       "dtype: object"
      ]
     },
     "execution_count": 10,
     "metadata": {},
     "output_type": "execute_result"
    }
   ],
   "source": [
    "winning_combinations.head()"
   ]
  },
  {
   "cell_type": "code",
   "execution_count": 13,
   "metadata": {
    "collapsed": false
   },
   "outputs": [
    {
     "name": "stdout",
     "output_type": "stream",
     "text": [
      "Your combination of numbers, [1, 2, 3, 4, 5, 6] has not won since 1982.\n",
      "        This does not mean your chance of winning is better now.\n",
      "        You still have a 1 in 13,983,816 or 0.0000072% chance of winning.\n",
      "        \n"
     ]
    }
   ],
   "source": [
    "#create function to check a user's list of numbers against the history of\n",
    "#winning combinations\n",
    "def check_historical_occurence(list, winning_history):\n",
    "    converted_list = set(list)\n",
    "    check_wins = winning_history == converted_list\n",
    "    win_count = check_wins.sum()\n",
    "    \n",
    "    if win_count == 0:\n",
    "        print('''Your combination of numbers, {} has not won since 1982.\n",
    "        This does not mean your chance of winning is better now.\n",
    "        You still have a 1 in 13,983,816 or 0.0000072% chance of winning.\n",
    "        '''.format(list))\n",
    "    else:\n",
    "        print('''Your combination, {} has won {} times since 1982.\n",
    "        This does not change your chance of winning in the future.\n",
    "        You still have a 1 in 13,983,816 or 0.0000072% chance of winning.\n",
    "        '''.format(list,win_count))\n",
    "        \n",
    "check_historical_occurence([1,2,3,4,5,6], winning_combinations)"
   ]
  },
  {
   "cell_type": "markdown",
   "metadata": {},
   "source": [
    "## Show that buying more tickets doesn't really make things better\n",
    "\n",
    "Many addicts will buy multiple tickets thinking that their chance of winning is signicantly better than by just buying one. We will show that this has little impact on whether they will win.\n",
    "\n",
    "This function will take in a number of unique tickets that someone will buy and the functino will provide back the probability of winning the big prize depending on the number of tickets played."
   ]
  },
  {
   "cell_type": "code",
   "execution_count": 18,
   "metadata": {
    "collapsed": false
   },
   "outputs": [
    {
     "name": "stdout",
     "output_type": "stream",
     "text": [
      "If you buy 1 tickets, your probability of winning is 0.0000072%.\n",
      "    This is 1 in 13983816 chances to win.\n",
      "    \n",
      "If you buy 10 tickets, your probability of winning is 0.0000715%.\n",
      "    This is 1 in 1398382 chances to win.\n",
      "    \n",
      "If you buy 100 tickets, your probability of winning is 0.0007151%.\n",
      "    This is 1 in 139838 chances to win.\n",
      "    \n",
      "If you buy 10000 tickets, your probability of winning is 0.0715112%.\n",
      "    This is 1 in 1398 chances to win.\n",
      "    \n",
      "If you buy 1000000 tickets, your probability of winning is 7.1511238%.\n",
      "    This is 1 in 14 chances to win.\n",
      "    \n",
      "If you buy 6991908 tickets, your probability of winning is 50.0000000%.\n",
      "    This is 1 in 2 chances to win.\n",
      "    \n",
      "If you buy 13983816 tickets, your probability of winning is 100.0000000%.\n",
      "    This is 1 in 1 chances to win.\n",
      "    \n"
     ]
    }
   ],
   "source": [
    "#calculate number of outcomes and the probability of winning given a \n",
    "#number of unique tickets\n",
    "def multi_ticket_probability(n):\n",
    "    total_outcomes = combinations(49,6)\n",
    "    win_prob = n / total_outcomes * 100\n",
    "    comb_simp = round(total_outcomes / n)\n",
    "    print('''If you buy {} tickets, your probability of winning is {:.7f}%.\n",
    "    This is 1 in {} chances to win.\n",
    "    '''.format(n, win_prob,comb_simp))\n",
    "    \n",
    "tests = [1,10,100,10000,1000000,6991908,13983816]\n",
    "\n",
    "for test in tests:\n",
    "    multi_ticket_probability(test)"
   ]
  },
  {
   "cell_type": "markdown",
   "metadata": {},
   "source": [
    "## Chance of winning a smaller prize\n",
    "\n",
    "We are going to finally calculate the chance of a user winning a much smaller prize when they math 2 to 5 of the 6 numbers rather than all of them."
   ]
  },
  {
   "cell_type": "code",
   "execution_count": 19,
   "metadata": {
    "collapsed": false
   },
   "outputs": [
    {
     "name": "stdout",
     "output_type": "stream",
     "text": [
      "The probability of matching 2 numbers is 19.132653%.\n",
      "    This is 1 in 5 chances to win.\n",
      "    \n",
      "The probability of matching 3 numbers is 2.171081%.\n",
      "    This is 1 in 46 chances to win.\n",
      "    \n",
      "The probability of matching 4 numbers is 0.106194%.\n",
      "    This is 1 in 942 chances to win.\n",
      "    \n",
      "The probability of matching 5 numbers is 0.001888%.\n",
      "    This is 1 in 52969 chances to win.\n",
      "    \n"
     ]
    }
   ],
   "source": [
    "#create function to determine probability of matching 2-5 numbers rather than\n",
    "# all 6 numbers\n",
    "def probability_less_6(n):\n",
    "    n_comb_win_tickets = combinations(6,n)\n",
    "    n_remaining_combs = combinations(49 - n, 6 - n)\n",
    "    successful_outcomes = n_comb_win_tickets * n_remaining_combs\n",
    "    total_outcomes = combinations(49,6)\n",
    "    probability = successful_outcomes / total_outcomes * 100\n",
    "    comb_simp = round(total_outcomes / successful_outcomes)\n",
    "    print('''The probability of matching {} numbers is {:.6f}%.\n",
    "    This is 1 in {} chances to win.\n",
    "    '''.format(n, probability,comb_simp))\n",
    "    \n",
    "probability_less_6(2)\n",
    "probability_less_6(3)\n",
    "probability_less_6(4)\n",
    "probability_less_6(5)"
   ]
  },
  {
   "cell_type": "code",
   "execution_count": null,
   "metadata": {
    "collapsed": true
   },
   "outputs": [],
   "source": []
  }
 ],
 "metadata": {
  "kernelspec": {
   "display_name": "Python 3",
   "language": "python",
   "name": "python3"
  },
  "language_info": {
   "codemirror_mode": {
    "name": "ipython",
    "version": 3
   },
   "file_extension": ".py",
   "mimetype": "text/x-python",
   "name": "python",
   "nbconvert_exporter": "python",
   "pygments_lexer": "ipython3",
   "version": "3.4.3"
  }
 },
 "nbformat": 4,
 "nbformat_minor": 2
}
